{
  "cells": [
    {
      "cell_type": "markdown",
      "id": "f41c74bc",
      "metadata": {
        "id": "f41c74bc"
      },
      "source": [
        "# Course: Data Science for Decision Support\n",
        "\n",
        "### Assignment 1.1 (Submission deadline 18.05.2022, 16:00)\n",
        "### Author:Anju Thomas, Matriculation Nr:526861"
      ]
    },
    {
      "cell_type": "markdown",
      "id": "ad72f342",
      "metadata": {
        "id": "ad72f342"
      },
      "source": [
        "## Task 1"
      ]
    },
    {
      "cell_type": "markdown",
      "source": [
        "Import the following modules: “numpy”, “random”, “math“, “bqplot“"
      ],
      "metadata": {
        "id": "GDjk8U3UAUVm"
      },
      "id": "GDjk8U3UAUVm"
    },
    {
      "cell_type": "code",
      "execution_count": 4,
      "id": "d2f72e55",
      "metadata": {
        "id": "d2f72e55"
      },
      "outputs": [],
      "source": [
        "import numpy\n",
        "import random\n",
        "import math\n",
        "#!pip install bqplot\n",
        "import bqplot"
      ]
    },
    {
      "cell_type": "markdown",
      "id": "133c20e5",
      "metadata": {
        "id": "133c20e5"
      },
      "source": [
        "## Task 2\n",
        "Write a function, which returns the area of a rectangle, given two sides. Approximated to 4 decimal places"
      ]
    },
    {
      "cell_type": "code",
      "source": [
        "def AreaofRectangle(width, height):\n",
        "    Area= width * height\n",
        "    print(\"Area of a Rectangle is: %.4f\" %Area)"
      ],
      "metadata": {
        "id": "450XwSARF_MW"
      },
      "id": "450XwSARF_MW",
      "execution_count": 29,
      "outputs": []
    },
    {
      "cell_type": "code",
      "source": [
        "AreaofRectangle(8,6)"
      ],
      "metadata": {
        "colab": {
          "base_uri": "https://localhost:8080/"
        },
        "id": "1cKByxWDEeqw",
        "outputId": "d53aabce-f3ac-4b5b-f7aa-dc4e3a3bcf9a"
      },
      "id": "1cKByxWDEeqw",
      "execution_count": 30,
      "outputs": [
        {
          "output_type": "stream",
          "name": "stdout",
          "text": [
            "Area of a Rectangle is: 48.0000\n"
          ]
        }
      ]
    },
    {
      "cell_type": "code",
      "execution_count": 31,
      "id": "91df1970",
      "metadata": {
        "colab": {
          "base_uri": "https://localhost:8080/"
        },
        "id": "91df1970",
        "outputId": "09ee3986-df06-4d46-9011-4862cc6e91e8"
      },
      "outputs": [
        {
          "output_type": "stream",
          "name": "stdout",
          "text": [
            "Area of a Rectangle is: 200.0000\n"
          ]
        }
      ],
      "source": [
        "AreaofRectangle(10,20)"
      ]
    },
    {
      "cell_type": "code",
      "source": [
        ""
      ],
      "metadata": {
        "id": "lV0_9Hs4AXq2"
      },
      "id": "lV0_9Hs4AXq2",
      "execution_count": null,
      "outputs": []
    },
    {
      "cell_type": "markdown",
      "metadata": {
        "id": "YkPM1K3PAYXW"
      },
      "source": [
        "## Task 3\n",
        "Write a function, which creates a float number from 2 given strings, using the first \n",
        "string as an integer part and the second string as a decimal part. \n",
        "The strings are always correct numbers. \n",
        "Example: \n",
        "my_func('25', '345') \n",
        "#returns 25.345"
      ],
      "id": "YkPM1K3PAYXW"
    },
    {
      "cell_type": "code",
      "source": [
        "def string_to_float(x,y):\n",
        "    float_value=float(f\"{x}.{y}\")\n",
        "    #print(float_value)\n",
        "    return float_value"
      ],
      "metadata": {
        "id": "JL11mx1_CYtQ"
      },
      "id": "JL11mx1_CYtQ",
      "execution_count": 21,
      "outputs": []
    },
    {
      "cell_type": "code",
      "source": [
        "string_to_float(\"25\",\"38\")"
      ],
      "metadata": {
        "id": "cNIW7aeCELms"
      },
      "id": "cNIW7aeCELms",
      "execution_count": null,
      "outputs": []
    },
    {
      "cell_type": "markdown",
      "source": [
        "## Task4\n",
        "Write a function, which adds a given element to an empty list, set, dictionary and \n",
        "returns the corresponding result as a tuple with respect to the input. \n",
        "Example: \n",
        "func3(2) \n",
        "#returns ([2], {2}, {2:2})"
      ],
      "metadata": {
        "id": "W9ZMcfRyCkvz"
      },
      "id": "W9ZMcfRyCkvz"
    },
    {
      "cell_type": "code",
      "source": [
        "def fuc3(num):\n",
        "    tup=([num],{num},{num:num})\n",
        "    #print(tup)\n",
        "    return tup"
      ],
      "metadata": {
        "id": "5aCtTArBCinM"
      },
      "id": "5aCtTArBCinM",
      "execution_count": 19,
      "outputs": []
    },
    {
      "cell_type": "code",
      "source": [
        "fuc3(2)"
      ],
      "metadata": {
        "colab": {
          "base_uri": "https://localhost:8080/"
        },
        "id": "Jr-h42dxEAmP",
        "outputId": "4b106c68-33de-4b6b-ef43-02eb8e61264b"
      },
      "id": "Jr-h42dxEAmP",
      "execution_count": 20,
      "outputs": [
        {
          "output_type": "execute_result",
          "data": {
            "text/plain": [
              "([2], {2}, {2: 2})"
            ]
          },
          "metadata": {},
          "execution_count": 20
        }
      ]
    },
    {
      "cell_type": "markdown",
      "source": [
        "## Task 5\n",
        "Write a function, which unpacks a list of tuples into another list of tuples, in which \n",
        "elements with the same indices are combined together as shown in the example. \n",
        "Example: \n",
        "unpack_tuples([('apple', 'ball' , 'car'), (2, 4, 2), ('eat', \n",
        "'catch', 'drive')]) \n",
        "#returns [('apple', 2, 'eat'), ('ball', 4, 'catch'), ('car', 2, \n",
        "'drive')]"
      ],
      "metadata": {
        "id": "r8fbWoncC5oB"
      },
      "id": "r8fbWoncC5oB"
    },
    {
      "cell_type": "code",
      "source": [
        "def func4(x):\n",
        "    s=list(zip(*x))\n",
        "    #print(s)\n",
        "    return s"
      ],
      "metadata": {
        "id": "D7HaqzZNCs_U"
      },
      "id": "D7HaqzZNCs_U",
      "execution_count": 17,
      "outputs": []
    },
    {
      "cell_type": "code",
      "source": [
        "func4([('apple', 'ball' , 'car'), (2, 4, 2), ('eat', \n",
        "'catch', 'drive')])"
      ],
      "metadata": {
        "colab": {
          "base_uri": "https://localhost:8080/"
        },
        "id": "6MXksQYEDrZ9",
        "outputId": "11246e3f-e4a2-49d0-8749-ef42c346bd5f"
      },
      "id": "6MXksQYEDrZ9",
      "execution_count": 18,
      "outputs": [
        {
          "output_type": "execute_result",
          "data": {
            "text/plain": [
              "[('apple', 2, 'eat'), ('ball', 4, 'catch'), ('car', 2, 'drive')]"
            ]
          },
          "metadata": {},
          "execution_count": 18
        }
      ]
    },
    {
      "cell_type": "markdown",
      "source": [
        "##Task 6\n",
        "Write a function “ominous_average_calculator”, which takes a list of integers and \n",
        "returns their average as a float value with 2 decimal places. However if one of the \n",
        "values is 13 then it calculates the averages only of numbers before 13. \n",
        "Example: \n",
        "ominous_average_calculator([1, 2, 3, 4]) \n",
        "###returns 2.5 \n",
        "ominous_average_calculator([1, 13, 3, 4]) \n",
        "#### returns 1"
      ],
      "metadata": {
        "id": "FdPsWZoSDH7H"
      },
      "id": "FdPsWZoSDH7H"
    },
    {
      "cell_type": "code",
      "source": [
        "def ominous_average_calculator(l):\n",
        "    return(sum(l)/len(l))\n"
      ],
      "metadata": {
        "id": "EX6hjS6JDUX3"
      },
      "id": "EX6hjS6JDUX3",
      "execution_count": 13,
      "outputs": []
    },
    {
      "cell_type": "code",
      "source": [
        "ominous_average_calculator([1, 2,3,4]) "
      ],
      "metadata": {
        "colab": {
          "base_uri": "https://localhost:8080/"
        },
        "id": "I-ns6JOADkRj",
        "outputId": "1073371c-6b5c-42c2-b28c-cec6a79f7ce3"
      },
      "id": "I-ns6JOADkRj",
      "execution_count": 14,
      "outputs": [
        {
          "output_type": "execute_result",
          "data": {
            "text/plain": [
              "2.5"
            ]
          },
          "metadata": {},
          "execution_count": 14
        }
      ]
    },
    {
      "cell_type": "code",
      "source": [
        "ominous_average_calculator([1, 13,3,4]) "
      ],
      "metadata": {
        "colab": {
          "base_uri": "https://localhost:8080/"
        },
        "id": "y-Gu5FRWC_kR",
        "outputId": "22b4db98-3bee-4d64-a5c7-991d3abb6422"
      },
      "id": "y-Gu5FRWC_kR",
      "execution_count": 12,
      "outputs": [
        {
          "output_type": "execute_result",
          "data": {
            "text/plain": [
              "5.25"
            ]
          },
          "metadata": {},
          "execution_count": 12
        }
      ]
    },
    {
      "cell_type": "markdown",
      "source": [
        "##Task 7\n",
        "Complete the class ElonCompany, which calculates the productivity using the \n",
        "formula: productivity = revenue / employees in total \n",
        "class ElonCompany: \n",
        " def __init__(self, compname, revenue, employee_count): \n",
        "#### Enter Your code here\n",
        " def productivity(self): \n",
        "####Enter Your code here \n",
        "Example: \n",
        "tesla = ElonCompany('tesla', 1000,100) \n",
        "twitter = ElonCompany('twitter', 500, 2000) \n",
        "tesla.productivity() \n",
        "#### returns 10.0 \n",
        "twitter.productivity() \n",
        "####returns 0.25 \n"
      ],
      "metadata": {
        "id": "17kqyemtGxC4"
      },
      "id": "17kqyemtGxC4"
    },
    {
      "cell_type": "code",
      "source": [
        "class ElonCompany(): \n",
        "    def __init__(self, compname, revenue, employee_count): \n",
        "        self.compname=compname\n",
        "        self.revenue=revenue\n",
        "        self.employee_count=employee_count\n",
        "        \n",
        "    def productivity(self):\n",
        "        productivity1 =self.revenue/self.employee_count\n",
        "        return productivity1"
      ],
      "metadata": {
        "id": "vO7QhifmHgLA"
      },
      "id": "vO7QhifmHgLA",
      "execution_count": 33,
      "outputs": []
    },
    {
      "cell_type": "code",
      "source": [
        "tesla = ElonCompany('tesla', 1000,100) \n",
        "print(tesla.productivity())\n",
        "twitter = ElonCompany('twitter', 500, 2000)\n",
        "print(twitter.productivity())"
      ],
      "metadata": {
        "colab": {
          "base_uri": "https://localhost:8080/"
        },
        "id": "f4fSwjl_IJzB",
        "outputId": "1f607f4f-8dac-4e14-ee3a-4fb25fee9ef0"
      },
      "id": "f4fSwjl_IJzB",
      "execution_count": 34,
      "outputs": [
        {
          "output_type": "stream",
          "name": "stdout",
          "text": [
            "10.0\n",
            "0.25\n"
          ]
        }
      ]
    },
    {
      "cell_type": "markdown",
      "source": [
        "#Task 8\n",
        "Write a function, which reshapes a given one-dimensional numpy array into \n",
        "dimensions specified in arguments (rows, columns). \n",
        "Example: \n",
        "a_np_arr1 = np.arange(10,22) \n",
        "reshape_arrays(a_np_arr1,3, 4)) \n",
        "###returns \n",
        "### [[10 11 12 13] \n",
        "### [14 15 16 17] \n",
        "### [18 19 20 21]]"
      ],
      "metadata": {
        "id": "TZFnGw4VITxp"
      },
      "id": "TZFnGw4VITxp"
    },
    {
      "cell_type": "code",
      "source": [
        "import numpy as np\n",
        "def reshape_arrays(arr1,row,column):\n",
        "    reshaped_array=arr1.reshape(4, 3)\n",
        "    return reshaped_array"
      ],
      "metadata": {
        "id": "_hjx2xnTIOFF"
      },
      "id": "_hjx2xnTIOFF",
      "execution_count": 35,
      "outputs": []
    },
    {
      "cell_type": "code",
      "source": [
        "arri=np.arange(10,22)\n",
        "reshape_arrays(arri,3,4)"
      ],
      "metadata": {
        "colab": {
          "base_uri": "https://localhost:8080/"
        },
        "id": "4N2mGbOwIb-m",
        "outputId": "7d3ca3b1-ab74-4641-d91f-1cf10f015e65"
      },
      "id": "4N2mGbOwIb-m",
      "execution_count": 36,
      "outputs": [
        {
          "output_type": "execute_result",
          "data": {
            "text/plain": [
              "array([[10, 11, 12],\n",
              "       [13, 14, 15],\n",
              "       [16, 17, 18],\n",
              "       [19, 20, 21]])"
            ]
          },
          "metadata": {},
          "execution_count": 36
        }
      ]
    },
    {
      "cell_type": "markdown",
      "source": [
        "#Task 9\n",
        "Write a function, which sums all the multiples of 3 or 5 from a given numpy array"
      ],
      "metadata": {
        "id": "QAEvbLosIuGK"
      },
      "id": "QAEvbLosIuGK"
    },
    {
      "cell_type": "code",
      "source": [
        "import numpy as np\n",
        "def sum1(x):\n",
        "    n= x[(x % 3 == 0) | (x % 5 == 0)]\n",
        "    return n.sum()"
      ],
      "metadata": {
        "id": "AVtemJ-pIpRU"
      },
      "id": "AVtemJ-pIpRU",
      "execution_count": 37,
      "outputs": []
    },
    {
      "cell_type": "code",
      "source": [
        "x = np.arange(1,20)\n",
        "sum1(x)"
      ],
      "metadata": {
        "colab": {
          "base_uri": "https://localhost:8080/"
        },
        "id": "Ci1Zbc8sI1ob",
        "outputId": "2565b627-9489-418c-dcd4-bb7986167756"
      },
      "id": "Ci1Zbc8sI1ob",
      "execution_count": 38,
      "outputs": [
        {
          "output_type": "execute_result",
          "data": {
            "text/plain": [
              "78"
            ]
          },
          "metadata": {},
          "execution_count": 38
        }
      ]
    },
    {
      "cell_type": "markdown",
      "source": [
        "## Task 10\n",
        "write a function, which returns element-wise division of a given numpy array by a given number"
      ],
      "metadata": {
        "id": "J89peacOI_tV"
      },
      "id": "J89peacOI_tV"
    },
    {
      "cell_type": "code",
      "source": [
        "def divi(x):\n",
        "    division=np.true_divide(x, 2)\n",
        "    return division"
      ],
      "metadata": {
        "id": "2gReMtG0JA4M"
      },
      "id": "2gReMtG0JA4M",
      "execution_count": 40,
      "outputs": []
    },
    {
      "cell_type": "code",
      "source": [
        "x = np.arange(10)\n",
        "divi(x)"
      ],
      "metadata": {
        "colab": {
          "base_uri": "https://localhost:8080/"
        },
        "id": "twdQRT-yJGOi",
        "outputId": "6d7a9674-9374-4830-9aa5-68127640b99b"
      },
      "id": "twdQRT-yJGOi",
      "execution_count": 41,
      "outputs": [
        {
          "output_type": "execute_result",
          "data": {
            "text/plain": [
              "array([0. , 0.5, 1. , 1.5, 2. , 2.5, 3. , 3.5, 4. , 4.5])"
            ]
          },
          "metadata": {},
          "execution_count": 41
        }
      ]
    },
    {
      "cell_type": "markdown",
      "source": [
        "## Task 11\n",
        "\n",
        " Write a function, which returns the determinant of a numpy array."
      ],
      "metadata": {
        "id": "pDfeC5y-JNPi"
      },
      "id": "pDfeC5y-JNPi"
    },
    {
      "cell_type": "code",
      "source": [
        "def divi(x):\n",
        "    d=np.linalg.det(x)\n",
        "    return d"
      ],
      "metadata": {
        "id": "A0cECKKNJN03"
      },
      "id": "A0cECKKNJN03",
      "execution_count": 42,
      "outputs": []
    },
    {
      "cell_type": "code",
      "source": [
        "x =np.array([[1, 2], [3, 4]])\n",
        "divi(x)"
      ],
      "metadata": {
        "colab": {
          "base_uri": "https://localhost:8080/"
        },
        "id": "cCeZLUeMJS2r",
        "outputId": "8c5c1d12-c421-4a8d-85e9-f79b7194eb2a"
      },
      "id": "cCeZLUeMJS2r",
      "execution_count": 43,
      "outputs": [
        {
          "output_type": "execute_result",
          "data": {
            "text/plain": [
              "-2.0000000000000004"
            ]
          },
          "metadata": {},
          "execution_count": 43
        }
      ]
    },
    {
      "cell_type": "markdown",
      "source": [
        "## Task 12\n",
        "Write a function, which converts a given list to pandas Series."
      ],
      "metadata": {
        "id": "G0eZnqUbJeot"
      },
      "id": "G0eZnqUbJeot"
    },
    {
      "cell_type": "code",
      "source": [
        "import pandas as pd\n",
        "def list_pdSeries(list1):\n",
        "    df = pd.Series(list1)\n",
        "    return df"
      ],
      "metadata": {
        "id": "vH56jjT1Jd6L"
      },
      "id": "vH56jjT1Jd6L",
      "execution_count": 44,
      "outputs": []
    },
    {
      "cell_type": "code",
      "source": [
        "list_pdSeries(['abc','def','ghi','jkl'])"
      ],
      "metadata": {
        "colab": {
          "base_uri": "https://localhost:8080/"
        },
        "id": "q5jS0hMwJkVo",
        "outputId": "aaddec2f-5838-4714-a799-927de282ce86"
      },
      "id": "q5jS0hMwJkVo",
      "execution_count": 45,
      "outputs": [
        {
          "output_type": "execute_result",
          "data": {
            "text/plain": [
              "0    abc\n",
              "1    def\n",
              "2    ghi\n",
              "3    jkl\n",
              "dtype: object"
            ]
          },
          "metadata": {},
          "execution_count": 45
        }
      ]
    },
    {
      "cell_type": "markdown",
      "source": [
        "## Task 13\n",
        "Write a function, which changes the given value to another value in the specified \n",
        "column of the given DataFrame: \n",
        "Example: \n",
        "df = pd.DataFrame({ \n",
        " 'name': ['A','B','C', 'D', 'E', 'F'], \n",
        " 'age': [18, 22, 85, 50, 80, 5] \n",
        "}) \n",
        "replace_func(df,'name','D','G') \n",
        "###returns \n",
        " name age \n",
        "0 A 18 \n",
        "1 B 22 \n",
        "2 C 85 \n",
        "3 G 50 \n",
        "4 E 80 \n",
        "5 F 5"
      ],
      "metadata": {
        "id": "ukJO-isnJrdR"
      },
      "id": "ukJO-isnJrdR"
    },
    {
      "cell_type": "code",
      "source": [
        "def replace_func(df):\n",
        "    result=df.replace('D','G')\n",
        "    #print(result)\n",
        "    return result"
      ],
      "metadata": {
        "id": "vbbw9y6_Jr8C"
      },
      "id": "vbbw9y6_Jr8C",
      "execution_count": 46,
      "outputs": []
    },
    {
      "cell_type": "code",
      "source": [
        "df = pd.DataFrame({'name': ['A','B','C', 'D', 'E', 'F'],'age': [18, 22, 85, 50, 80, 5]})\n",
        "replace_func(df)"
      ],
      "metadata": {
        "colab": {
          "base_uri": "https://localhost:8080/",
          "height": 238
        },
        "id": "lI-mbaFwJuUK",
        "outputId": "4046cc5f-9224-4f0b-c022-620244885e92"
      },
      "id": "lI-mbaFwJuUK",
      "execution_count": 47,
      "outputs": [
        {
          "output_type": "execute_result",
          "data": {
            "text/plain": [
              "  name  age\n",
              "0    A   18\n",
              "1    B   22\n",
              "2    C   85\n",
              "3    G   50\n",
              "4    E   80\n",
              "5    F    5"
            ],
            "text/html": [
              "\n",
              "  <div id=\"df-13812a75-99ab-4df5-9c00-53e873919233\">\n",
              "    <div class=\"colab-df-container\">\n",
              "      <div>\n",
              "<style scoped>\n",
              "    .dataframe tbody tr th:only-of-type {\n",
              "        vertical-align: middle;\n",
              "    }\n",
              "\n",
              "    .dataframe tbody tr th {\n",
              "        vertical-align: top;\n",
              "    }\n",
              "\n",
              "    .dataframe thead th {\n",
              "        text-align: right;\n",
              "    }\n",
              "</style>\n",
              "<table border=\"1\" class=\"dataframe\">\n",
              "  <thead>\n",
              "    <tr style=\"text-align: right;\">\n",
              "      <th></th>\n",
              "      <th>name</th>\n",
              "      <th>age</th>\n",
              "    </tr>\n",
              "  </thead>\n",
              "  <tbody>\n",
              "    <tr>\n",
              "      <th>0</th>\n",
              "      <td>A</td>\n",
              "      <td>18</td>\n",
              "    </tr>\n",
              "    <tr>\n",
              "      <th>1</th>\n",
              "      <td>B</td>\n",
              "      <td>22</td>\n",
              "    </tr>\n",
              "    <tr>\n",
              "      <th>2</th>\n",
              "      <td>C</td>\n",
              "      <td>85</td>\n",
              "    </tr>\n",
              "    <tr>\n",
              "      <th>3</th>\n",
              "      <td>G</td>\n",
              "      <td>50</td>\n",
              "    </tr>\n",
              "    <tr>\n",
              "      <th>4</th>\n",
              "      <td>E</td>\n",
              "      <td>80</td>\n",
              "    </tr>\n",
              "    <tr>\n",
              "      <th>5</th>\n",
              "      <td>F</td>\n",
              "      <td>5</td>\n",
              "    </tr>\n",
              "  </tbody>\n",
              "</table>\n",
              "</div>\n",
              "      <button class=\"colab-df-convert\" onclick=\"convertToInteractive('df-13812a75-99ab-4df5-9c00-53e873919233')\"\n",
              "              title=\"Convert this dataframe to an interactive table.\"\n",
              "              style=\"display:none;\">\n",
              "        \n",
              "  <svg xmlns=\"http://www.w3.org/2000/svg\" height=\"24px\"viewBox=\"0 0 24 24\"\n",
              "       width=\"24px\">\n",
              "    <path d=\"M0 0h24v24H0V0z\" fill=\"none\"/>\n",
              "    <path d=\"M18.56 5.44l.94 2.06.94-2.06 2.06-.94-2.06-.94-.94-2.06-.94 2.06-2.06.94zm-11 1L8.5 8.5l.94-2.06 2.06-.94-2.06-.94L8.5 2.5l-.94 2.06-2.06.94zm10 10l.94 2.06.94-2.06 2.06-.94-2.06-.94-.94-2.06-.94 2.06-2.06.94z\"/><path d=\"M17.41 7.96l-1.37-1.37c-.4-.4-.92-.59-1.43-.59-.52 0-1.04.2-1.43.59L10.3 9.45l-7.72 7.72c-.78.78-.78 2.05 0 2.83L4 21.41c.39.39.9.59 1.41.59.51 0 1.02-.2 1.41-.59l7.78-7.78 2.81-2.81c.8-.78.8-2.07 0-2.86zM5.41 20L4 18.59l7.72-7.72 1.47 1.35L5.41 20z\"/>\n",
              "  </svg>\n",
              "      </button>\n",
              "      \n",
              "  <style>\n",
              "    .colab-df-container {\n",
              "      display:flex;\n",
              "      flex-wrap:wrap;\n",
              "      gap: 12px;\n",
              "    }\n",
              "\n",
              "    .colab-df-convert {\n",
              "      background-color: #E8F0FE;\n",
              "      border: none;\n",
              "      border-radius: 50%;\n",
              "      cursor: pointer;\n",
              "      display: none;\n",
              "      fill: #1967D2;\n",
              "      height: 32px;\n",
              "      padding: 0 0 0 0;\n",
              "      width: 32px;\n",
              "    }\n",
              "\n",
              "    .colab-df-convert:hover {\n",
              "      background-color: #E2EBFA;\n",
              "      box-shadow: 0px 1px 2px rgba(60, 64, 67, 0.3), 0px 1px 3px 1px rgba(60, 64, 67, 0.15);\n",
              "      fill: #174EA6;\n",
              "    }\n",
              "\n",
              "    [theme=dark] .colab-df-convert {\n",
              "      background-color: #3B4455;\n",
              "      fill: #D2E3FC;\n",
              "    }\n",
              "\n",
              "    [theme=dark] .colab-df-convert:hover {\n",
              "      background-color: #434B5C;\n",
              "      box-shadow: 0px 1px 3px 1px rgba(0, 0, 0, 0.15);\n",
              "      filter: drop-shadow(0px 1px 2px rgba(0, 0, 0, 0.3));\n",
              "      fill: #FFFFFF;\n",
              "    }\n",
              "  </style>\n",
              "\n",
              "      <script>\n",
              "        const buttonEl =\n",
              "          document.querySelector('#df-13812a75-99ab-4df5-9c00-53e873919233 button.colab-df-convert');\n",
              "        buttonEl.style.display =\n",
              "          google.colab.kernel.accessAllowed ? 'block' : 'none';\n",
              "\n",
              "        async function convertToInteractive(key) {\n",
              "          const element = document.querySelector('#df-13812a75-99ab-4df5-9c00-53e873919233');\n",
              "          const dataTable =\n",
              "            await google.colab.kernel.invokeFunction('convertToInteractive',\n",
              "                                                     [key], {});\n",
              "          if (!dataTable) return;\n",
              "\n",
              "          const docLinkHtml = 'Like what you see? Visit the ' +\n",
              "            '<a target=\"_blank\" href=https://colab.research.google.com/notebooks/data_table.ipynb>data table notebook</a>'\n",
              "            + ' to learn more about interactive tables.';\n",
              "          element.innerHTML = '';\n",
              "          dataTable['output_type'] = 'display_data';\n",
              "          await google.colab.output.renderOutput(dataTable, element);\n",
              "          const docLink = document.createElement('div');\n",
              "          docLink.innerHTML = docLinkHtml;\n",
              "          element.appendChild(docLink);\n",
              "        }\n",
              "      </script>\n",
              "    </div>\n",
              "  </div>\n",
              "  "
            ]
          },
          "metadata": {},
          "execution_count": 47
        }
      ]
    },
    {
      "cell_type": "markdown",
      "source": [
        "## Task 14\n",
        "Write a function, which returns a value at the given position from a DataFrame, \n",
        "referenced by two indices (row and column)."
      ],
      "metadata": {
        "id": "ckwY9OiYJ5n_"
      },
      "id": "ckwY9OiYJ5n_"
    },
    {
      "cell_type": "code",
      "source": [
        "def fuc13(df):\n",
        "    result=df.iloc[0]\n",
        "    #print(result)\n",
        "    return result\n",
        "#df = pd.DataFrame({'name': ['A','B','C', 'D', 'E', 'F'],'age': [18, 22, 85, 50, 80, 5]})"
      ],
      "metadata": {
        "id": "KyA-8YL7J6YV"
      },
      "id": "KyA-8YL7J6YV",
      "execution_count": 48,
      "outputs": []
    },
    {
      "cell_type": "code",
      "source": [
        "df = pd.DataFrame({'name': ['A','B','C', 'D', 'E', 'F'],'age': [18, 22, 85, 50, 80, 5]})\n",
        "fuc13(df)"
      ],
      "metadata": {
        "colab": {
          "base_uri": "https://localhost:8080/"
        },
        "id": "lg8hCmWoJ9jd",
        "outputId": "42cf1214-d1a4-40d6-9a57-756dddeb85bc"
      },
      "id": "lg8hCmWoJ9jd",
      "execution_count": 49,
      "outputs": [
        {
          "output_type": "execute_result",
          "data": {
            "text/plain": [
              "name     A\n",
              "age     18\n",
              "Name: 0, dtype: object"
            ]
          },
          "metadata": {},
          "execution_count": 49
        }
      ]
    },
    {
      "cell_type": "markdown",
      "source": [
        "## Task 15\n",
        "Write a function, which returns a number of groups by splitting DataFrame based \n",
        "on given column names. (use groupby function): \n",
        "Example: \n",
        "df = pd.DataFrame({ \n",
        " 'school_code': ['s001','s002','s003','s001','s002','s004'], \n",
        " 'class': ['V', 'V', 'VI', 'VI', 'V', 'VI'], \n",
        " 'name': ['A', 'B', 'C', 'D', 'E', 'F'], \n",
        " 'date_Of_Birth ': \n",
        "['15/05/2002','17/05/2002','16/02/1999','25/09/1998','11/05/200\n",
        "2','15/09/1997'], \n",
        " 'address': ['street1', 'street2', 'street3', 'street1', \n",
        "'street2', 'street4']}, \n",
        " index=['S1', 'S2', 'S3', 'S4', 'S5', 'S6']) "
      ],
      "metadata": {
        "id": "61ZljkxUKMEZ"
      },
      "id": "61ZljkxUKMEZ"
    },
    {
      "cell_type": "code",
      "source": [
        "def func_groupby(df):\n",
        "    grouped_values=df.groupby('address')\n",
        "    #print(df)\n",
        "    grouped_values=grouped_values.first()\n",
        "    \n",
        "    return grouped_values"
      ],
      "metadata": {
        "id": "cuIRxpNyKMs6"
      },
      "id": "cuIRxpNyKMs6",
      "execution_count": 51,
      "outputs": []
    },
    {
      "cell_type": "code",
      "source": [
        "df = pd.DataFrame({'school_code': ['s001','s002','s003','s001','s002','s004'],'class': ['V', 'V', 'VI', 'VI', 'V', 'VI'], 'name': ['A', 'B', 'C', 'D', 'E', 'F'], \n",
        " 'date_Of_Birth ': ['15/05/2002','17/05/2002','16/02/1999','25/09/1998','11/05/2002','15/09/1997'],'address': ['street1', 'street2', 'street3', 'street1','street2', 'street4']}, \n",
        " index=['S1', 'S2', 'S3', 'S4', 'S5', 'S6'])\n",
        "func_groupby(df)"
      ],
      "metadata": {
        "colab": {
          "base_uri": "https://localhost:8080/",
          "height": 206
        },
        "id": "iIqRGw6nKT8C",
        "outputId": "88fb2abe-e3d6-4f4b-b542-8c02b08e4936"
      },
      "id": "iIqRGw6nKT8C",
      "execution_count": 52,
      "outputs": [
        {
          "output_type": "execute_result",
          "data": {
            "text/plain": [
              "        school_code class name date_Of_Birth \n",
              "address                                      \n",
              "street1        s001     V    A     15/05/2002\n",
              "street2        s002     V    B     17/05/2002\n",
              "street3        s003    VI    C     16/02/1999\n",
              "street4        s004    VI    F     15/09/1997"
            ],
            "text/html": [
              "\n",
              "  <div id=\"df-1be9c932-b510-42e0-b122-3ed5b7a43519\">\n",
              "    <div class=\"colab-df-container\">\n",
              "      <div>\n",
              "<style scoped>\n",
              "    .dataframe tbody tr th:only-of-type {\n",
              "        vertical-align: middle;\n",
              "    }\n",
              "\n",
              "    .dataframe tbody tr th {\n",
              "        vertical-align: top;\n",
              "    }\n",
              "\n",
              "    .dataframe thead th {\n",
              "        text-align: right;\n",
              "    }\n",
              "</style>\n",
              "<table border=\"1\" class=\"dataframe\">\n",
              "  <thead>\n",
              "    <tr style=\"text-align: right;\">\n",
              "      <th></th>\n",
              "      <th>school_code</th>\n",
              "      <th>class</th>\n",
              "      <th>name</th>\n",
              "      <th>date_Of_Birth</th>\n",
              "    </tr>\n",
              "    <tr>\n",
              "      <th>address</th>\n",
              "      <th></th>\n",
              "      <th></th>\n",
              "      <th></th>\n",
              "      <th></th>\n",
              "    </tr>\n",
              "  </thead>\n",
              "  <tbody>\n",
              "    <tr>\n",
              "      <th>street1</th>\n",
              "      <td>s001</td>\n",
              "      <td>V</td>\n",
              "      <td>A</td>\n",
              "      <td>15/05/2002</td>\n",
              "    </tr>\n",
              "    <tr>\n",
              "      <th>street2</th>\n",
              "      <td>s002</td>\n",
              "      <td>V</td>\n",
              "      <td>B</td>\n",
              "      <td>17/05/2002</td>\n",
              "    </tr>\n",
              "    <tr>\n",
              "      <th>street3</th>\n",
              "      <td>s003</td>\n",
              "      <td>VI</td>\n",
              "      <td>C</td>\n",
              "      <td>16/02/1999</td>\n",
              "    </tr>\n",
              "    <tr>\n",
              "      <th>street4</th>\n",
              "      <td>s004</td>\n",
              "      <td>VI</td>\n",
              "      <td>F</td>\n",
              "      <td>15/09/1997</td>\n",
              "    </tr>\n",
              "  </tbody>\n",
              "</table>\n",
              "</div>\n",
              "      <button class=\"colab-df-convert\" onclick=\"convertToInteractive('df-1be9c932-b510-42e0-b122-3ed5b7a43519')\"\n",
              "              title=\"Convert this dataframe to an interactive table.\"\n",
              "              style=\"display:none;\">\n",
              "        \n",
              "  <svg xmlns=\"http://www.w3.org/2000/svg\" height=\"24px\"viewBox=\"0 0 24 24\"\n",
              "       width=\"24px\">\n",
              "    <path d=\"M0 0h24v24H0V0z\" fill=\"none\"/>\n",
              "    <path d=\"M18.56 5.44l.94 2.06.94-2.06 2.06-.94-2.06-.94-.94-2.06-.94 2.06-2.06.94zm-11 1L8.5 8.5l.94-2.06 2.06-.94-2.06-.94L8.5 2.5l-.94 2.06-2.06.94zm10 10l.94 2.06.94-2.06 2.06-.94-2.06-.94-.94-2.06-.94 2.06-2.06.94z\"/><path d=\"M17.41 7.96l-1.37-1.37c-.4-.4-.92-.59-1.43-.59-.52 0-1.04.2-1.43.59L10.3 9.45l-7.72 7.72c-.78.78-.78 2.05 0 2.83L4 21.41c.39.39.9.59 1.41.59.51 0 1.02-.2 1.41-.59l7.78-7.78 2.81-2.81c.8-.78.8-2.07 0-2.86zM5.41 20L4 18.59l7.72-7.72 1.47 1.35L5.41 20z\"/>\n",
              "  </svg>\n",
              "      </button>\n",
              "      \n",
              "  <style>\n",
              "    .colab-df-container {\n",
              "      display:flex;\n",
              "      flex-wrap:wrap;\n",
              "      gap: 12px;\n",
              "    }\n",
              "\n",
              "    .colab-df-convert {\n",
              "      background-color: #E8F0FE;\n",
              "      border: none;\n",
              "      border-radius: 50%;\n",
              "      cursor: pointer;\n",
              "      display: none;\n",
              "      fill: #1967D2;\n",
              "      height: 32px;\n",
              "      padding: 0 0 0 0;\n",
              "      width: 32px;\n",
              "    }\n",
              "\n",
              "    .colab-df-convert:hover {\n",
              "      background-color: #E2EBFA;\n",
              "      box-shadow: 0px 1px 2px rgba(60, 64, 67, 0.3), 0px 1px 3px 1px rgba(60, 64, 67, 0.15);\n",
              "      fill: #174EA6;\n",
              "    }\n",
              "\n",
              "    [theme=dark] .colab-df-convert {\n",
              "      background-color: #3B4455;\n",
              "      fill: #D2E3FC;\n",
              "    }\n",
              "\n",
              "    [theme=dark] .colab-df-convert:hover {\n",
              "      background-color: #434B5C;\n",
              "      box-shadow: 0px 1px 3px 1px rgba(0, 0, 0, 0.15);\n",
              "      filter: drop-shadow(0px 1px 2px rgba(0, 0, 0, 0.3));\n",
              "      fill: #FFFFFF;\n",
              "    }\n",
              "  </style>\n",
              "\n",
              "      <script>\n",
              "        const buttonEl =\n",
              "          document.querySelector('#df-1be9c932-b510-42e0-b122-3ed5b7a43519 button.colab-df-convert');\n",
              "        buttonEl.style.display =\n",
              "          google.colab.kernel.accessAllowed ? 'block' : 'none';\n",
              "\n",
              "        async function convertToInteractive(key) {\n",
              "          const element = document.querySelector('#df-1be9c932-b510-42e0-b122-3ed5b7a43519');\n",
              "          const dataTable =\n",
              "            await google.colab.kernel.invokeFunction('convertToInteractive',\n",
              "                                                     [key], {});\n",
              "          if (!dataTable) return;\n",
              "\n",
              "          const docLinkHtml = 'Like what you see? Visit the ' +\n",
              "            '<a target=\"_blank\" href=https://colab.research.google.com/notebooks/data_table.ipynb>data table notebook</a>'\n",
              "            + ' to learn more about interactive tables.';\n",
              "          element.innerHTML = '';\n",
              "          dataTable['output_type'] = 'display_data';\n",
              "          await google.colab.output.renderOutput(dataTable, element);\n",
              "          const docLink = document.createElement('div');\n",
              "          docLink.innerHTML = docLinkHtml;\n",
              "          element.appendChild(docLink);\n",
              "        }\n",
              "      </script>\n",
              "    </div>\n",
              "  </div>\n",
              "  "
            ]
          },
          "metadata": {},
          "execution_count": 52
        }
      ]
    },
    {
      "cell_type": "markdown",
      "source": [
        "##Task 16\n",
        "Write a function, which drops the rows from a DataFrame, where all elements are \n",
        "NaNs and returns the result as a DataFrame."
      ],
      "metadata": {
        "id": "7bNbHbafKZ10"
      },
      "id": "7bNbHbafKZ10"
    },
    {
      "cell_type": "code",
      "source": [
        "def dropnafunc(df):\n",
        "    df1=df.dropna()\n",
        "    #print(type(df)) first row with nan values and missing values got deleted\n",
        "    return df1"
      ],
      "metadata": {
        "id": "E-VfA12xKaZq"
      },
      "id": "E-VfA12xKaZq",
      "execution_count": 55,
      "outputs": []
    },
    {
      "cell_type": "code",
      "source": [
        "df = pd.DataFrame({'school_code': ['s001','s002','s003','s001','s002','s004'],'class': ['', 'V', 'VI', 'VI', 'V', 'VI'], 'name': [np.nan, 'B', 'C', 'D', 'E', 'F'], \n",
        " 'date_Of_Birth ': ['NaN','17/05/2002','16/02/1999','25/09/1998','11/05/2002','15/09/1997'],'address':['NaN', 'street2', 'street3', 'street1','street2', 'street4']}, \n",
        " index=['NaN', 'S2', 'S3', 'S4', 'S5', 'S6'])\n",
        "dropnafunc(df)"
      ],
      "metadata": {
        "colab": {
          "base_uri": "https://localhost:8080/",
          "height": 206
        },
        "id": "VuJGEWaRKhZY",
        "outputId": "9aa3c098-e360-4597-cfb8-651caa92680c"
      },
      "id": "VuJGEWaRKhZY",
      "execution_count": 56,
      "outputs": [
        {
          "output_type": "execute_result",
          "data": {
            "text/plain": [
              "   school_code class name date_Of_Birth   address\n",
              "S2        s002     V    B     17/05/2002  street2\n",
              "S3        s003    VI    C     16/02/1999  street3\n",
              "S4        s001    VI    D     25/09/1998  street1\n",
              "S5        s002     V    E     11/05/2002  street2\n",
              "S6        s004    VI    F     15/09/1997  street4"
            ],
            "text/html": [
              "\n",
              "  <div id=\"df-f5b90b85-273e-46b8-9311-b8dd5a43f436\">\n",
              "    <div class=\"colab-df-container\">\n",
              "      <div>\n",
              "<style scoped>\n",
              "    .dataframe tbody tr th:only-of-type {\n",
              "        vertical-align: middle;\n",
              "    }\n",
              "\n",
              "    .dataframe tbody tr th {\n",
              "        vertical-align: top;\n",
              "    }\n",
              "\n",
              "    .dataframe thead th {\n",
              "        text-align: right;\n",
              "    }\n",
              "</style>\n",
              "<table border=\"1\" class=\"dataframe\">\n",
              "  <thead>\n",
              "    <tr style=\"text-align: right;\">\n",
              "      <th></th>\n",
              "      <th>school_code</th>\n",
              "      <th>class</th>\n",
              "      <th>name</th>\n",
              "      <th>date_Of_Birth</th>\n",
              "      <th>address</th>\n",
              "    </tr>\n",
              "  </thead>\n",
              "  <tbody>\n",
              "    <tr>\n",
              "      <th>S2</th>\n",
              "      <td>s002</td>\n",
              "      <td>V</td>\n",
              "      <td>B</td>\n",
              "      <td>17/05/2002</td>\n",
              "      <td>street2</td>\n",
              "    </tr>\n",
              "    <tr>\n",
              "      <th>S3</th>\n",
              "      <td>s003</td>\n",
              "      <td>VI</td>\n",
              "      <td>C</td>\n",
              "      <td>16/02/1999</td>\n",
              "      <td>street3</td>\n",
              "    </tr>\n",
              "    <tr>\n",
              "      <th>S4</th>\n",
              "      <td>s001</td>\n",
              "      <td>VI</td>\n",
              "      <td>D</td>\n",
              "      <td>25/09/1998</td>\n",
              "      <td>street1</td>\n",
              "    </tr>\n",
              "    <tr>\n",
              "      <th>S5</th>\n",
              "      <td>s002</td>\n",
              "      <td>V</td>\n",
              "      <td>E</td>\n",
              "      <td>11/05/2002</td>\n",
              "      <td>street2</td>\n",
              "    </tr>\n",
              "    <tr>\n",
              "      <th>S6</th>\n",
              "      <td>s004</td>\n",
              "      <td>VI</td>\n",
              "      <td>F</td>\n",
              "      <td>15/09/1997</td>\n",
              "      <td>street4</td>\n",
              "    </tr>\n",
              "  </tbody>\n",
              "</table>\n",
              "</div>\n",
              "      <button class=\"colab-df-convert\" onclick=\"convertToInteractive('df-f5b90b85-273e-46b8-9311-b8dd5a43f436')\"\n",
              "              title=\"Convert this dataframe to an interactive table.\"\n",
              "              style=\"display:none;\">\n",
              "        \n",
              "  <svg xmlns=\"http://www.w3.org/2000/svg\" height=\"24px\"viewBox=\"0 0 24 24\"\n",
              "       width=\"24px\">\n",
              "    <path d=\"M0 0h24v24H0V0z\" fill=\"none\"/>\n",
              "    <path d=\"M18.56 5.44l.94 2.06.94-2.06 2.06-.94-2.06-.94-.94-2.06-.94 2.06-2.06.94zm-11 1L8.5 8.5l.94-2.06 2.06-.94-2.06-.94L8.5 2.5l-.94 2.06-2.06.94zm10 10l.94 2.06.94-2.06 2.06-.94-2.06-.94-.94-2.06-.94 2.06-2.06.94z\"/><path d=\"M17.41 7.96l-1.37-1.37c-.4-.4-.92-.59-1.43-.59-.52 0-1.04.2-1.43.59L10.3 9.45l-7.72 7.72c-.78.78-.78 2.05 0 2.83L4 21.41c.39.39.9.59 1.41.59.51 0 1.02-.2 1.41-.59l7.78-7.78 2.81-2.81c.8-.78.8-2.07 0-2.86zM5.41 20L4 18.59l7.72-7.72 1.47 1.35L5.41 20z\"/>\n",
              "  </svg>\n",
              "      </button>\n",
              "      \n",
              "  <style>\n",
              "    .colab-df-container {\n",
              "      display:flex;\n",
              "      flex-wrap:wrap;\n",
              "      gap: 12px;\n",
              "    }\n",
              "\n",
              "    .colab-df-convert {\n",
              "      background-color: #E8F0FE;\n",
              "      border: none;\n",
              "      border-radius: 50%;\n",
              "      cursor: pointer;\n",
              "      display: none;\n",
              "      fill: #1967D2;\n",
              "      height: 32px;\n",
              "      padding: 0 0 0 0;\n",
              "      width: 32px;\n",
              "    }\n",
              "\n",
              "    .colab-df-convert:hover {\n",
              "      background-color: #E2EBFA;\n",
              "      box-shadow: 0px 1px 2px rgba(60, 64, 67, 0.3), 0px 1px 3px 1px rgba(60, 64, 67, 0.15);\n",
              "      fill: #174EA6;\n",
              "    }\n",
              "\n",
              "    [theme=dark] .colab-df-convert {\n",
              "      background-color: #3B4455;\n",
              "      fill: #D2E3FC;\n",
              "    }\n",
              "\n",
              "    [theme=dark] .colab-df-convert:hover {\n",
              "      background-color: #434B5C;\n",
              "      box-shadow: 0px 1px 3px 1px rgba(0, 0, 0, 0.15);\n",
              "      filter: drop-shadow(0px 1px 2px rgba(0, 0, 0, 0.3));\n",
              "      fill: #FFFFFF;\n",
              "    }\n",
              "  </style>\n",
              "\n",
              "      <script>\n",
              "        const buttonEl =\n",
              "          document.querySelector('#df-f5b90b85-273e-46b8-9311-b8dd5a43f436 button.colab-df-convert');\n",
              "        buttonEl.style.display =\n",
              "          google.colab.kernel.accessAllowed ? 'block' : 'none';\n",
              "\n",
              "        async function convertToInteractive(key) {\n",
              "          const element = document.querySelector('#df-f5b90b85-273e-46b8-9311-b8dd5a43f436');\n",
              "          const dataTable =\n",
              "            await google.colab.kernel.invokeFunction('convertToInteractive',\n",
              "                                                     [key], {});\n",
              "          if (!dataTable) return;\n",
              "\n",
              "          const docLinkHtml = 'Like what you see? Visit the ' +\n",
              "            '<a target=\"_blank\" href=https://colab.research.google.com/notebooks/data_table.ipynb>data table notebook</a>'\n",
              "            + ' to learn more about interactive tables.';\n",
              "          element.innerHTML = '';\n",
              "          dataTable['output_type'] = 'display_data';\n",
              "          await google.colab.output.renderOutput(dataTable, element);\n",
              "          const docLink = document.createElement('div');\n",
              "          docLink.innerHTML = docLinkHtml;\n",
              "          element.appendChild(docLink);\n",
              "        }\n",
              "      </script>\n",
              "    </div>\n",
              "  </div>\n",
              "  "
            ]
          },
          "metadata": {},
          "execution_count": 56
        }
      ]
    },
    {
      "cell_type": "markdown",
      "source": [
        ""
      ],
      "metadata": {
        "id": "w9mXIJJxKmQL"
      },
      "id": "w9mXIJJxKmQL"
    },
    {
      "cell_type": "code",
      "source": [
        ""
      ],
      "metadata": {
        "id": "PBCnRhlPKm_T"
      },
      "id": "PBCnRhlPKm_T",
      "execution_count": null,
      "outputs": []
    }
  ],
  "metadata": {
    "kernelspec": {
      "display_name": "Python 3 (ipykernel)",
      "language": "python",
      "name": "python3"
    },
    "language_info": {
      "codemirror_mode": {
        "name": "ipython",
        "version": 3
      },
      "file_extension": ".py",
      "mimetype": "text/x-python",
      "name": "python",
      "nbconvert_exporter": "python",
      "pygments_lexer": "ipython3",
      "version": "3.9.7"
    },
    "colab": {
      "name": "template.ipynb",
      "provenance": [],
      "collapsed_sections": []
    }
  },
  "nbformat": 4,
  "nbformat_minor": 5
}